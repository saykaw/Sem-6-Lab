{
  "nbformat": 4,
  "nbformat_minor": 0,
  "metadata": {
    "colab": {
      "provenance": [],
      "authorship_tag": "ABX9TyPRg021+2Fj98A3kPyAcrWX",
      "include_colab_link": true
    },
    "kernelspec": {
      "name": "python3",
      "display_name": "Python 3"
    },
    "language_info": {
      "name": "python"
    }
  },
  "cells": [
    {
      "cell_type": "markdown",
      "metadata": {
        "id": "view-in-github",
        "colab_type": "text"
      },
      "source": [
        "<a href=\"https://colab.research.google.com/github/saykaw/sem-6-lab/blob/main/D11AD_31_Exp9.ipynb\" target=\"_parent\"><img src=\"https://colab.research.google.com/assets/colab-badge.svg\" alt=\"Open In Colab\"/></a>"
      ]
    },
    {
      "cell_type": "code",
      "execution_count": null,
      "metadata": {
        "colab": {
          "base_uri": "https://localhost:8080/",
          "height": 521
        },
        "id": "xoQ1hsFmrYMK",
        "outputId": "d73f25dc-2034-4e47-d839-c6c3c38856b0"
      },
      "outputs": [
        {
          "output_type": "display_data",
          "data": {
            "text/plain": [
              "<IPython.core.display.HTML object>"
            ],
            "text/html": [
              "<!DOCTYPE html>\n",
              "<html lang=\"en\">\n",
              "<head>\n",
              "    <meta charset=\"UTF-8\">\n",
              "    <meta name=\"viewport\" content=\"width=device-width, initial-scale=1.0\">\n",
              "    <title>World Map with D3.js</title>\n",
              "    <style>\n",
              "        path {\n",
              "            fill: #ccc;\n",
              "            stroke: #fff;\n",
              "            stroke-width: 0.5;\n",
              "        }\n",
              "    </style>\n",
              "</head>\n",
              "<body>\n",
              "    <script src=\"https://d3js.org/d3.v5.min.js\"></script>\n",
              "    <script>\n",
              "\n",
              "        // Set up the width and height of the map\n",
              "        const width = 960;\n",
              "        const height = 500;\n",
              "\n",
              "        // Create an SVG container for the map\n",
              "        const svg = d3.select(\"body\")\n",
              "            .append(\"svg\")\n",
              "            .attr(\"width\", width)\n",
              "            .attr(\"height\", height);\n",
              "\n",
              "        // Define a projection for the map (you can choose a different one if needed)\n",
              "        const projection = d3.geoMercator()\n",
              "            .scale(130)\n",
              "            .translate([width / 2, height / 1.5]);\n",
              "\n",
              "        // Create a path generator using the projection\n",
              "        const path = d3.geoPath().projection(projection);\n",
              "\n",
              "        // Load the world map data (GeoJSON format)\n",
              "        d3.json(\"https://raw.githubusercontent.com/d3/d3-geo/master/test/data/world-110m.json\").then(function (world) {\n",
              "            \n",
              "            // Draw the countries on the map\n",
              "            svg.selectAll(\"path\")\n",
              "                .data(world.features)\n",
              "                .enter().append(\"path\")\n",
              "                .attr(\"d\", path);\n",
              "        });\n",
              "\n",
              "    </script>\n",
              "</body>\n",
              "</html>\n"
            ]
          },
          "metadata": {}
        }
      ],
      "source": [
        "%%html\n",
        "<!DOCTYPE html>\n",
        "<html lang=\"en\">\n",
        "<head>\n",
        "    <meta charset=\"UTF-8\">\n",
        "    <meta name=\"viewport\" content=\"width=device-width, initial-scale=1.0\">\n",
        "    <title>World Map with D3.js</title>\n",
        "    <style>\n",
        "        path {\n",
        "            fill: #ccc;\n",
        "            stroke: #fff;\n",
        "            stroke-width: 0.5;\n",
        "        }\n",
        "    </style>\n",
        "</head>\n",
        "<body>\n",
        "    <script src=\"https://d3js.org/d3.v5.min.js\"></script>\n",
        "    <script>\n",
        "\n",
        "        // Set up the width and height of the map\n",
        "        const width = 960;\n",
        "        const height = 500;\n",
        "\n",
        "        // Create an SVG container for the map\n",
        "        const svg = d3.select(\"body\")\n",
        "            .append(\"svg\")\n",
        "            .attr(\"width\", width)\n",
        "            .attr(\"height\", height);\n",
        "\n",
        "        // Define a projection for the map (you can choose a different one if needed)\n",
        "        const projection = d3.geoMercator()\n",
        "            .scale(130)\n",
        "            .translate([width / 2, height / 1.5]);\n",
        "\n",
        "        // Create a path generator using the projection\n",
        "        const path = d3.geoPath().projection(projection);\n",
        "\n",
        "        // Load the world map data (GeoJSON format)\n",
        "        d3.json(\"https://raw.githubusercontent.com/d3/d3-geo/master/test/data/world-110m.json\").then(function (world) {\n",
        "\n",
        "            // Draw the countries on the map\n",
        "            svg.selectAll(\"path\")\n",
        "                .data(world.features)\n",
        "                .enter().append(\"path\")\n",
        "                .attr(\"d\", path);\n",
        "        });\n",
        "\n",
        "    </script>\n",
        "</body>\n",
        "</html>\n"
      ]
    },
    {
      "cell_type": "code",
      "source": [],
      "metadata": {
        "id": "hhQ9SOEosGIH"
      },
      "execution_count": null,
      "outputs": []
    }
  ]
}