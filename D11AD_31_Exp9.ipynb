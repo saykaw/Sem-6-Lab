{
  "nbformat": 4,
  "nbformat_minor": 0,
  "metadata": {
    "colab": {
      "provenance": [],
      "authorship_tag": "ABX9TyPfzMulHOcswW8t27SVRC3F",
      "include_colab_link": true
    },
    "kernelspec": {
      "name": "python3",
      "display_name": "Python 3"
    },
    "language_info": {
      "name": "python"
    }
  },
  "cells": [
    {
      "cell_type": "markdown",
      "metadata": {
        "id": "view-in-github",
        "colab_type": "text"
      },
      "source": [
        "<a href=\"https://colab.research.google.com/github/saykaw/sem-6-lab/blob/main/D11AD_31_Exp9.ipynb\" target=\"_parent\"><img src=\"https://colab.research.google.com/assets/colab-badge.svg\" alt=\"Open In Colab\"/></a>"
      ]
    },
    {
      "cell_type": "code",
      "execution_count": 2,
      "metadata": {
        "colab": {
          "base_uri": "https://localhost:8080/",
          "height": 1000
        },
        "id": "xoQ1hsFmrYMK",
        "outputId": "96ba4bcc-75bc-4805-fdc5-7bfcd612b32e"
      },
      "outputs": [
        {
          "output_type": "display_data",
          "data": {
            "text/plain": [
              "<IPython.core.display.HTML object>"
            ],
            "text/html": [
              "<!DOCTYPE html>\n",
              "<html lang=\"en\">\n",
              "\n",
              "<head>\n",
              "    <meta charset=\"UTF-8\">\n",
              "    <meta name=\"viewport\" content=\"width=device-width, initial-scale=1.0\">\n",
              "    <title>Data-Based D3.js Example</title>\n",
              "    <script src=\"https://d3js.org/d3.v5.min.js\"></script>\n",
              "    <script src=\"https://d3js.org/d3.v5.min.js\"></script>\n",
              "    <style>\n",
              "        #content .map path {\n",
              "            fill: blue;\n",
              "            stroke: #aaa;\n",
              "        }\n",
              "    </style>\n",
              "</head>\n",
              "\n",
              "<body>\n",
              "    <div id=\"content\">\n",
              "        <svg height=\"100vh\" width=\"100vw\">\n",
              "            <g class=\"map\"></g>\n",
              "        </svg>\n",
              "    </div>\n",
              "    <script>\n",
              "        var url = \"https://raw.githubusercontent.com/datameet/maps/master/Country/india-osm.geojson\";\n",
              "        d3.json(url).then(function (geojson) {\n",
              "            let projection = d3.geoMercator().scale(500).translate([0, 500]);\n",
              "\n",
              "            let geoGenerator = d3.geoPath()\n",
              "                .projection(projection);\n",
              "\n",
              "            function update(geojson) {\n",
              "                let u = d3.select('#content g.map')\n",
              "                    .selectAll('path')\n",
              "                    .data(geojson.features);\n",
              "\n",
              "                u.enter()\n",
              "                    .append('path')\n",
              "                    .attr('d', geoGenerator);\n",
              "            }\n",
              "\n",
              "            update(geojson);\n",
              "        });\n",
              "    </script>\n",
              "\n",
              "</body>\n",
              "\n",
              "</html>\n"
            ]
          },
          "metadata": {}
        }
      ],
      "source": [
        "%%html\n",
        "<!DOCTYPE html>\n",
        "<html lang=\"en\">\n",
        "\n",
        "<head>\n",
        "    <meta charset=\"UTF-8\">\n",
        "    <meta name=\"viewport\" content=\"width=device-width, initial-scale=1.0\">\n",
        "    <title>Data-Based D3.js Example</title>\n",
        "    <script src=\"https://d3js.org/d3.v5.min.js\"></script>\n",
        "    <script src=\"https://d3js.org/d3.v5.min.js\"></script>\n",
        "    <style>\n",
        "        #content .map path {\n",
        "            fill: blue;\n",
        "            stroke: #aaa;\n",
        "        }\n",
        "    </style>\n",
        "</head>\n",
        "\n",
        "<body>\n",
        "    <div id=\"content\">\n",
        "        <svg height=\"100vh\" width=\"100vw\">\n",
        "            <g class=\"map\"></g>\n",
        "        </svg>\n",
        "    </div>\n",
        "    <script>\n",
        "        var url = \"https://raw.githubusercontent.com/datameet/maps/master/Country/india-osm.geojson\";\n",
        "        d3.json(url).then(function (geojson) {\n",
        "            let projection = d3.geoMercator().scale(500).translate([0, 500]);\n",
        "\n",
        "            let geoGenerator = d3.geoPath()\n",
        "                .projection(projection);\n",
        "\n",
        "            function update(geojson) {\n",
        "                let u = d3.select('#content g.map')\n",
        "                    .selectAll('path')\n",
        "                    .data(geojson.features);\n",
        "\n",
        "                u.enter()\n",
        "                    .append('path')\n",
        "                    .attr('d', geoGenerator);\n",
        "            }\n",
        "\n",
        "            update(geojson);\n",
        "        });\n",
        "    </script>\n",
        "\n",
        "</body>\n",
        "\n",
        "</html>"
      ]
    },
    {
      "cell_type": "code",
      "source": [],
      "metadata": {
        "id": "hhQ9SOEosGIH"
      },
      "execution_count": null,
      "outputs": []
    }
  ]
}