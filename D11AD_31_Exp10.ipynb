{
  "nbformat": 4,
  "nbformat_minor": 0,
  "metadata": {
    "colab": {
      "provenance": [],
      "authorship_tag": "ABX9TyM2+Ol7DtllNhmdA06/BbEq",
      "include_colab_link": true
    },
    "kernelspec": {
      "name": "python3",
      "display_name": "Python 3"
    },
    "language_info": {
      "name": "python"
    }
  },
  "cells": [
    {
      "cell_type": "markdown",
      "metadata": {
        "id": "view-in-github",
        "colab_type": "text"
      },
      "source": [
        "<a href=\"https://colab.research.google.com/github/saykaw/sem-6-lab/blob/main/D11AD_31_Exp10.ipynb\" target=\"_parent\"><img src=\"https://colab.research.google.com/assets/colab-badge.svg\" alt=\"Open In Colab\"/></a>"
      ]
    },
    {
      "cell_type": "markdown",
      "source": [
        "##Hover on circle to change colour"
      ],
      "metadata": {
        "id": "69PXJ9EoQIIi"
      }
    },
    {
      "cell_type": "code",
      "source": [
        "%%html\n",
        "<!DOCTYPE html>\n",
        "<html lang=\"en\">\n",
        "<head>\n",
        "    <meta charset=\"UTF-8\">\n",
        "    <meta name=\"viewport\" content=\"width=device-width, initial-scale=1.0\">\n",
        "    <title>Document</title>\n",
        "</head>\n",
        "<body>\n",
        "\n",
        "    <svg id=\"demoSelectOn\" width=\"200px\" height=\"200px\">\n",
        "        <circle id=\"circleColorChangeD\" cx=\"100\" cy=\"100\" r=\"50\"></circle>\n",
        "    </svg>\n",
        "\n",
        "    <script src=\"https://d3js.org/d3.v5.min.js\"></script>\n",
        "    <script>\n",
        "        d3.select(\"#demoSelectOn #circleColorChangeD\")\n",
        "            .on(\"mouseenter\", function () {\n",
        "                d3.select(this).attr(\"fill\", \"green\");\n",
        "            })\n",
        "            .on(\"mouseout\", function () {\n",
        "                d3.select(this).attr(\"fill\", \"red\");\n",
        "            });\n",
        "    </script>\n",
        "</body>\n",
        "</html>\n"
      ],
      "metadata": {
        "colab": {
          "base_uri": "https://localhost:8080/",
          "height": 221
        },
        "id": "iQ-mnvrlQ6mi",
        "outputId": "c0c0ebd7-6ccf-49b9-bd2e-f693a7ee44e5"
      },
      "execution_count": 3,
      "outputs": [
        {
          "output_type": "display_data",
          "data": {
            "text/plain": [
              "<IPython.core.display.HTML object>"
            ],
            "text/html": [
              "<!DOCTYPE html>\n",
              "<html lang=\"en\">\n",
              "<head>\n",
              "    <meta charset=\"UTF-8\">\n",
              "    <meta name=\"viewport\" content=\"width=device-width, initial-scale=1.0\">\n",
              "    <title>Document</title>\n",
              "</head>\n",
              "<body>\n",
              "    \n",
              "    <svg id=\"demoSelectOn\" width=\"200px\" height=\"200px\">\n",
              "        <circle id=\"circleColorChangeD\" cx=\"100\" cy=\"100\" r=\"50\"></circle>\n",
              "    </svg>\n",
              "\n",
              "    <script src=\"https://d3js.org/d3.v5.min.js\"></script>\n",
              "    <script>\n",
              "        d3.select(\"#demoSelectOn #circleColorChangeD\")\n",
              "            .on(\"mouseenter\", function () {\n",
              "                d3.select(this).attr(\"fill\", \"green\");\n",
              "            })\n",
              "            .on(\"mouseout\", function () {\n",
              "                d3.select(this).attr(\"fill\", \"red\");\n",
              "            });\n",
              "    </script>\n",
              "</body>\n",
              "</html>\n"
            ]
          },
          "metadata": {}
        }
      ]
    }
  ]
}